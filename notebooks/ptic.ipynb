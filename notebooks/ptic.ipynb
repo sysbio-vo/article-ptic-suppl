{
 "cells": [
  {
   "cell_type": "code",
   "execution_count": 51,
   "metadata": {},
   "outputs": [],
   "source": [
    "from ptic import pmi_tfidf_classifier as ptah\n",
    "import numpy as np\n",
    "from nltk.tokenize import word_tokenize\n",
    "import pandas as pd\n",
    "import nltk\n",
    "from time import time\n",
    "import string\n",
    "from sklearn.metrics import precision_score, recall_score, f1_score, accuracy_score, confusion_matrix\n",
    "np.random.seed(42)"
   ]
  },
  {
   "cell_type": "markdown",
   "metadata": {},
   "source": [
    "# DILI datasets"
   ]
  },
  {
   "cell_type": "code",
   "execution_count": 52,
   "metadata": {},
   "outputs": [],
   "source": [
    "path = '../datasets/DILI_CAMDA_challenge/'\n",
    "\n",
    "data_raw = pd.read_csv(path+\"DILI_initial_set.csv\")\n",
    "data_raw[\"abs_title\"] = data_raw[\"Abstract\"].astype(str) + \" \" + data_raw[\"Title\"].astype(str)\n",
    "\n",
    "indices = np.random.permutation(data_raw.index)\n",
    "data = data_raw.loc[indices]\n",
    "data = data_raw.sample(frac=1)\n",
    "\n",
    "idx = int(data.shape[0] * 0.1)\n",
    "test_data = data.iloc[:idx]\n",
    "train_data = data.iloc[idx:]\n",
    "targets_train = train_data['Label'].values\n",
    "targets_test = test_data['Label'].values"
   ]
  },
  {
   "cell_type": "code",
   "execution_count": 53,
   "metadata": {},
   "outputs": [
    {
     "name": "stdout",
     "output_type": "stream",
     "text": [
      "trainin time (min): 0.30014429092407224\n",
      "testing time (min): 0.037459214528401695\n"
     ]
    }
   ],
   "source": [
    "s1 = time()\n",
    "tokenized_texts = ptah.tokenization(train_data, var_name=\"abs_title\")\n",
    "N = len(tokenized_texts)\n",
    "word2text_count = ptah.get_word_stat(tokenized_texts)\n",
    "words_pmis = ptah.create_pmi_dict(tokenized_texts, targets_train, min_count=5)\n",
    "e1 = time()\n",
    "\n",
    "s2 = time()\n",
    "tokenized_test_texts = ptah.tokenization(test_data, var_name=\"abs_title\")\n",
    "results = ptah.classify_pmi_based(words_pmis, word2text_count, tokenized_test_texts, N)\n",
    "e2 = time()\n",
    "\n",
    "print('trainin time (min):', (e1 - s1) / 60)\n",
    "print('testing time (min):', (e2 - s2) / 60)"
   ]
  },
  {
   "cell_type": "code",
   "execution_count": 54,
   "metadata": {},
   "outputs": [
    {
     "name": "stdout",
     "output_type": "stream",
     "text": [
      "accuracy: 0.9049295774647887\n",
      "precision: 0.8449197860962567\n",
      "recall: 0.9708141321044547\n",
      "f1_score: 0.9035025017869908\n",
      "fp_rate: 0.1508452535760728\n",
      "fn_rate: 0.029185867895545316\n"
     ]
    }
   ],
   "source": [
    "tn, fp, fn, tp = confusion_matrix(results, targets_test).ravel()\n",
    "print('accuracy:', accuracy_score(results, targets_test))\n",
    "print('precision:', precision_score(results, targets_test))\n",
    "print('recall:', recall_score(results, targets_test))\n",
    "print('f1_score:', f1_score(results, targets_test))\n",
    "print('fp_rate:', fp / (fp + tn))\n",
    "print('fn_rate:', fn / (fn + tp))"
   ]
  },
  {
   "cell_type": "code",
   "execution_count": 55,
   "metadata": {},
   "outputs": [],
   "source": [
    "path = '../datasets/DILI_CAMDA_challenge/'\n",
    "test_data_val_1 = pd.read_csv(path + \"DILI_validation_set_1.tsv\", sep='\\t')\n",
    "test_data_val_2 = pd.read_csv(path + \"DILI_validation_set_2.tsv\", sep='\\t')\n",
    "test_data_val_1[\"abs_title\"] = test_data_val_1[\"Abstract\"] + \" \" + test_data_val_1[\"Title\"]\n",
    "\n",
    "tokenized_test_texts_val_1 = ptah.tokenization(test_data_val_1, var_name=\"abs_title\")\n",
    "tokenized_test_texts_val_2 = ptah.tokenization(test_data_val_2, var_name=\"Abstract\")\n",
    "\n",
    "labels_model_val_1 = ptah.classify_pmi_based(words_pmis, word2text_count, tokenized_test_texts_val_1, N)\n",
    "labels_model_val_2 = ptah.classify_pmi_based(words_pmis, word2text_count, tokenized_test_texts_val_2, N)\n",
    "\n",
    "pd.DataFrame(labels_model_val_1).astype(int).to_csv('../submissions/PTIC/labels_ptic_val_1.csv', index=False, header=[\"Labels\"])\n",
    "pd.DataFrame(labels_model_val_2).astype(int).to_csv('../submissions/PTIC/labels_ptic_val_2.csv', index=False, header=[\"Labels\"])"
   ]
  },
  {
   "cell_type": "markdown",
   "metadata": {},
   "source": [
    "# DILI extended datasets"
   ]
  },
  {
   "cell_type": "code",
   "execution_count": 7,
   "metadata": {},
   "outputs": [],
   "source": [
    "path = '../datasets/merged_additional_data_dili_cleaned.csv'\n",
    "\n",
    "data_raw = pd.read_csv(path)\n",
    "data_raw.fillna(\"\")\n",
    "data_raw[\"abs_title_anno\"] = data_raw[\"abstract\"].astype(str) + \" \" + data_raw[\"title\"].astype(str) + \" \" + data_raw[\"tox_annotation\"].astype(str)\n",
    "\n",
    "data_subset = data_raw.groupby(\"label\").sample(n=sum(data_raw[\"label\"]), random_state=1)\n",
    "\n",
    "indices = np.random.permutation(data_subset.index)\n",
    "data = data_subset.loc[indices]\n",
    "data = data_subset.sample(frac=1)\n",
    "\n",
    "idx = int(data.shape[0] * 0.1)\n",
    "test_data = data.iloc[:idx]\n",
    "train_data = data.iloc[idx:]\n",
    "targets_train = train_data['label'].values\n",
    "targets_test = test_data['label'].values"
   ]
  },
  {
   "cell_type": "code",
   "execution_count": 8,
   "metadata": {},
   "outputs": [
    {
     "name": "stdout",
     "output_type": "stream",
     "text": [
      "trainin time (min): 0.43172789812088014\n",
      "testing time (min): 0.05436714092890422\n"
     ]
    }
   ],
   "source": [
    "s1 = time()\n",
    "tokenized_texts = ptah.tokenization(train_data, var_name=\"abs_title_anno\")\n",
    "N = len(tokenized_texts)\n",
    "word2text_count = ptah.get_word_stat(tokenized_texts)\n",
    "words_pmis = ptah.create_pmi_dict(tokenized_texts, targets_train, min_count=5)\n",
    "e1 = time()\n",
    "\n",
    "s2 = time()\n",
    "tokenized_test_texts = ptah.tokenization(test_data, var_name=\"abs_title_anno\")\n",
    "results = ptah.classify_pmi_based(words_pmis, word2text_count, tokenized_test_texts, N)\n",
    "e2 = time()\n",
    "\n",
    "print('trainin time (min):', (e1 - s1) / 60)\n",
    "print('testing time (min):', (e2 - s2) / 60)"
   ]
  },
  {
   "cell_type": "code",
   "execution_count": 9,
   "metadata": {},
   "outputs": [
    {
     "name": "stdout",
     "output_type": "stream",
     "text": [
      "accuracy: 0.9477351916376306\n",
      "precision: 0.9558139534883721\n",
      "recall: 0.9405034324942791\n",
      "f1_score: 0.9480968858131487\n",
      "fp_rate: 0.04481132075471698\n",
      "fn_rate: 0.059496567505720827\n"
     ]
    }
   ],
   "source": [
    "tn, fp, fn, tp = confusion_matrix(results, targets_test).ravel()\n",
    "print('accuracy:', accuracy_score(results, targets_test))\n",
    "print('precision:', precision_score(results, targets_test))\n",
    "print('recall:', recall_score(results, targets_test))\n",
    "print('f1_score:', f1_score(results, targets_test))\n",
    "print('fp_rate:', fp / (fp + tn))\n",
    "print('fn_rate:', fn / (fn + tp))"
   ]
  },
  {
   "cell_type": "code",
   "execution_count": 16,
   "metadata": {},
   "outputs": [],
   "source": [
    "path = '../datasets/DILI_CAMDA_challenge/'\n",
    "test_data_val_1 = pd.read_csv(path + \"DILI_validation_set_1.tsv\", sep='\\t')\n",
    "test_data_val_2 = pd.read_csv(path + \"DILI_validation_set_2.tsv\", sep='\\t')\n",
    "test_data_val_1[\"abs_title\"] = test_data_val_1[\"Abstract\"] + \" \" + test_data_val_1[\"Title\"]\n",
    "\n",
    "tokenized_test_texts_val_1 = ptah.tokenization(test_data_val_1, var_name=\"abs_title\")\n",
    "tokenized_test_texts_val_2 = ptah.tokenization(test_data_val_2, var_name=\"Abstract\")\n",
    "\n",
    "labels_model_val_1 = ptah.classify_pmi_based(words_pmis, word2text_count, tokenized_test_texts_val_1, N)\n",
    "labels_model_val_2 = ptah.classify_pmi_based(words_pmis, word2text_count, tokenized_test_texts_val_2, N)\n",
    "\n",
    "pd.DataFrame(labels_model_val_1).astype(int).to_csv('../submissions/PTIC/labels_ptic_extended_val_1.csv', index=False, header=[\"Labels\"])\n",
    "pd.DataFrame(labels_model_val_2).astype(int).to_csv('../submissions/PTIC/labels_ptic_extended_val_2.csv', index=False, header=[\"Labels\"])"
   ]
  },
  {
   "cell_type": "code",
   "execution_count": null,
   "metadata": {},
   "outputs": [],
   "source": []
  }
 ],
 "metadata": {
  "interpreter": {
   "hash": "c87cabe562f5e807d26d1cd98e5393fbbae9a42e9f9c4a4ccda557b7b96e2ecb"
  },
  "kernelspec": {
   "display_name": "Python 3 (ipykernel)",
   "language": "python",
   "name": "python3"
  },
  "language_info": {
   "codemirror_mode": {
    "name": "ipython",
    "version": 3
   },
   "file_extension": ".py",
   "mimetype": "text/x-python",
   "name": "python",
   "nbconvert_exporter": "python",
   "pygments_lexer": "ipython3",
   "version": "3.10.0"
  }
 },
 "nbformat": 4,
 "nbformat_minor": 4
}
