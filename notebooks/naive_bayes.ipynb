{
 "cells": [
  {
   "cell_type": "code",
   "execution_count": 9,
   "metadata": {},
   "outputs": [
    {
     "name": "stderr",
     "output_type": "stream",
     "text": [
      "[nltk_data] Downloading package punkt to /home/arsentii/nltk_data...\n",
      "[nltk_data]   Package punkt is already up-to-date!\n",
      "[nltk_data] Downloading package stopwords to\n",
      "[nltk_data]     /home/arsentii/nltk_data...\n",
      "[nltk_data]   Package stopwords is already up-to-date!\n"
     ]
    },
    {
     "data": {
      "text/plain": [
       "True"
      ]
     },
     "execution_count": 9,
     "metadata": {},
     "output_type": "execute_result"
    }
   ],
   "source": [
    "from nltk.tokenize import word_tokenize\n",
    "import nltk\n",
    "import pandas as pd\n",
    "from nltk.corpus import stopwords\n",
    "import string\n",
    "import numpy as np\n",
    "from collections import defaultdict, Counter\n",
    "from sklearn.metrics import precision_score, recall_score, f1_score, accuracy_score, confusion_matrix\n",
    "\n",
    "nltk.download('punkt')\n",
    "nltk.download('stopwords')"
   ]
  },
  {
   "cell_type": "code",
   "execution_count": 3,
   "metadata": {},
   "outputs": [],
   "source": [
    "path = '../datasets/DILI/'\n",
    "data_raw = pd.read_csv(path + \"DILI_data.csv\")\n",
    "indices = np.random.permutation(data_raw.index)\n",
    "data = data_raw.loc[indices]\n",
    "data = data_raw.sample(frac=1)\n",
    "idx = int(data.shape[0] * 0.1)\n",
    "test_data = data.iloc[:idx]\n",
    "train_data = data.iloc[idx:]\n",
    "targets_train = train_data['Label'].values\n",
    "targets_test = test_data['Label'].values"
   ]
  },
  {
   "cell_type": "code",
   "execution_count": 28,
   "metadata": {},
   "outputs": [],
   "source": [
    "path = \"../datasets/DILI/\"\n",
    "stop_words = set(nltk.corpus.stopwords.words('english') + list(string.punctuation))\n",
    "\n",
    "def tokenize(s):\n",
    "    return [i for i in word_tokenize(s.lower()) if i not in stop_words]\n",
    "\n",
    "def tokenization(train_data, var_name='Abstract'):\n",
    "    tokenized_texts = []\n",
    "    #print(\"Tokenization....\")\n",
    "    for _, row in train_data.iterrows():\n",
    "        text = str(row[var_name])\n",
    "        #text = str(row['Title']) + ' ' + str(row['Abstract'])\n",
    "        words = tokenize(text)\n",
    "        tokenized_texts.append(words)\n",
    "    return tokenized_texts"
   ]
  },
  {
   "cell_type": "code",
   "execution_count": 5,
   "metadata": {},
   "outputs": [],
   "source": [
    "class NaiveBayes:\n",
    "\n",
    "    def __init__(self):\n",
    "        self.p_w_class = defaultdict(Counter)\n",
    "        self.total_words = defaultdict(int)\n",
    "        self.class_probs = defaultdict(int)\n",
    "\n",
    "    def prob_word_class(self, tokenized_texts, labels):\n",
    "        for text, label in zip(tokenized_texts, labels):\n",
    "            unique_words = np.unique(text)\n",
    "            for w in unique_words:\n",
    "                self.p_w_class[label][w] += 1\n",
    "        for l in labels:\n",
    "            self.total_words[l] += 1\n",
    "        for l in self.p_w_class:\n",
    "            doc_count = self.total_words[l]\n",
    "            for w in self.p_w_class[l]:\n",
    "                self.p_w_class[l][w] /= doc_count\n",
    "\n",
    "    def prob_class(self, labels):\n",
    "        for l in labels:\n",
    "            self.class_probs[l] += 1\n",
    "        tot = len(labels)\n",
    "        for c in self.class_probs:\n",
    "            self.class_probs[c] /= tot\n",
    "            self.class_probs[c] = np.log(self.class_probs[c])\n",
    "\n",
    "    def reset(self):\n",
    "        self.__init__()\n",
    "\n",
    "    def train(self, train_data, train_labels):\n",
    "        self.prob_word_class(train_data, train_labels)\n",
    "        self.prob_class(train_labels)\n",
    "\n",
    "    def predict(self, test_data):\n",
    "        labels_model = []\n",
    "        for text in test_data:\n",
    "            p_class_given_words = self.class_probs.copy()\n",
    "            for w in text:\n",
    "                for c in p_class_given_words:\n",
    "                    if w in self.p_w_class[0] and w in self.p_w_class[1]:\n",
    "                        p_class_given_words[c] += np.log(self.p_w_class[c][w])\n",
    "            max_c = max(p_class_given_words, key=p_class_given_words.get)\n",
    "            labels_model.append(max_c)\n",
    "        return labels_model\n",
    "\n"
   ]
  },
  {
   "cell_type": "code",
   "execution_count": 20,
   "metadata": {},
   "outputs": [
    {
     "name": "stdout",
     "output_type": "stream",
     "text": [
      "-14.376672506332397\n"
     ]
    }
   ],
   "source": [
    "from time import time\n",
    "tokenized_test_texts = tokenization(test_data)\n",
    "\n",
    "s = time()\n",
    "tokenized_train_texts = tokenization(train_data)\n",
    "model = NaiveBayes()\n",
    "model.train(tokenized_train_texts, targets_train)\n",
    "e = time()\n",
    "# labels_model = model.predict(tokenized_test_texts)\n",
    "print(s - e)"
   ]
  },
  {
   "cell_type": "code",
   "execution_count": 25,
   "metadata": {},
   "outputs": [
    {
     "data": {
      "text/plain": [
       "0.2396112084388733"
      ]
     },
     "execution_count": 25,
     "metadata": {},
     "output_type": "execute_result"
    }
   ],
   "source": [
    "(e - s) / 60"
   ]
  },
  {
   "cell_type": "code",
   "execution_count": 26,
   "metadata": {},
   "outputs": [
    {
     "name": "stdout",
     "output_type": "stream",
     "text": [
      "0.030988132953643797\n"
     ]
    }
   ],
   "source": [
    "s = time()\n",
    "tokenized_test_texts = tokenization(test_data)\n",
    "labels_model = model.predict(tokenized_test_texts)\n",
    "e = time()\n",
    "print( (e - s) / 60)"
   ]
  },
  {
   "cell_type": "code",
   "execution_count": 14,
   "metadata": {},
   "outputs": [
    {
     "name": "stdout",
     "output_type": "stream",
     "text": [
      "accuracy: 0.9154929577464789\n",
      "precision: 0.8826025459688827\n",
      "recall: 0.9440242057488654\n",
      "f1_score: 0.912280701754386\n",
      "fp_rate: 0.10935441370223979\n",
      "fn_rate: 0.05597579425113464\n"
     ]
    }
   ],
   "source": [
    "tn, fp, fn, tp = confusion_matrix(labels_model, targets_test).ravel()\n",
    "print('accuracy:', accuracy_score(labels_model, targets_test))\n",
    "print('precision:', precision_score(labels_model, targets_test))\n",
    "print('recall:', recall_score(labels_model, targets_test))\n",
    "print('f1_score:', f1_score(labels_model, targets_test))\n",
    "print('fp_rate:', fp / (fp + tn))\n",
    "print('fn_rate:', fn / (fn + tp))"
   ]
  },
  {
   "cell_type": "code",
   "execution_count": 13,
   "metadata": {},
   "outputs": [],
   "source": [
    "path = \"../data/\"\n",
    "\n",
    "# Data is taken from here\n",
    "# https://www.kaggle.com/lakshmi25npathi/imdb-dataset-of-50k-movie-reviews\n",
    "data_raw = pd.read_csv(path + 'IMDB_Dataset.csv')\n",
    "indices = np.random.permutation(data_raw.index)\n",
    "data = data_raw.loc[indices]\n",
    "data = data_raw.sample(frac=1)\n",
    "data = data.replace(to_replace=['negative', 'positive'], value=[0, 1])\n",
    "\n",
    "idx = int(data.shape[0] * 0.1)\n",
    "test_data = data.iloc[:idx]\n",
    "train_data = data.iloc[idx:]\n",
    "targets_train = train_data[\"sentiment\"].values\n",
    "targets_test = test_data[\"sentiment\"].values\n",
    "\n",
    "tokenized_texts = tokenization(train_data, 'review')\n",
    "tokenized_test_texts = tokenization(test_data, 'review')"
   ]
  },
  {
   "cell_type": "code",
   "execution_count": 14,
   "metadata": {},
   "outputs": [],
   "source": [
    "model = NaiveBayes()\n",
    "model.train(tokenized_texts, targets_train)\n",
    "labels_model = model.predict(tokenized_test_texts)"
   ]
  },
  {
   "cell_type": "code",
   "execution_count": 15,
   "metadata": {},
   "outputs": [
    {
     "name": "stdout",
     "output_type": "stream",
     "text": [
      "accuracy: 0.86\n",
      "precision: 0.8635108481262327\n",
      "recall: 0.8607943373967755\n",
      "f1_score: 0.862150452934226\n"
     ]
    }
   ],
   "source": [
    "from sklearn.metrics import precision_score, recall_score, f1_score, accuracy_score\n",
    "print('accuracy:', accuracy_score(labels_model, targets_test))\n",
    "print('precision:', precision_score(labels_model, targets_test))\n",
    "print('recall:', recall_score(labels_model, targets_test))\n",
    "print('f1_score:', f1_score(labels_model, targets_test))"
   ]
  },
  {
   "cell_type": "code",
   "execution_count": 35,
   "metadata": {},
   "outputs": [
    {
     "ename": "AttributeError",
     "evalue": "module 'pandas' has no attribute 'readc_csv'",
     "output_type": "error",
     "traceback": [
      "\u001b[0;31m---------------------------------------------------------------------------\u001b[0m",
      "\u001b[0;31mAttributeError\u001b[0m                            Traceback (most recent call last)",
      "\u001b[0;32m/tmp/ipykernel_15420/3232987533.py\u001b[0m in \u001b[0;36m<module>\u001b[0;34m\u001b[0m\n\u001b[1;32m      1\u001b[0m \u001b[0mtest_data_val\u001b[0m \u001b[0;34m=\u001b[0m \u001b[0mpd\u001b[0m\u001b[0;34m.\u001b[0m\u001b[0mread_csv\u001b[0m\u001b[0;34m(\u001b[0m\u001b[0mpath\u001b[0m \u001b[0;34m+\u001b[0m \u001b[0;34m\"Validation.tsv\"\u001b[0m\u001b[0;34m,\u001b[0m \u001b[0msep\u001b[0m\u001b[0;34m=\u001b[0m\u001b[0;34m'\\t'\u001b[0m\u001b[0;34m)\u001b[0m\u001b[0;34m\u001b[0m\u001b[0;34m\u001b[0m\u001b[0m\n\u001b[0;32m----> 2\u001b[0;31m \u001b[0mtest_data_add_val\u001b[0m \u001b[0;34m=\u001b[0m \u001b[0mpd\u001b[0m\u001b[0;34m.\u001b[0m\u001b[0mreadc_csv\u001b[0m\u001b[0;34m(\u001b[0m\u001b[0mpath\u001b[0m \u001b[0;34m+\u001b[0m \u001b[0;34m\"AdditionalDILItest.csv\"\u001b[0m\u001b[0;34m,\u001b[0m \u001b[0msep\u001b[0m\u001b[0;34m=\u001b[0m\u001b[0;34m'\\t'\u001b[0m\u001b[0;34m)\u001b[0m\u001b[0;34m\u001b[0m\u001b[0;34m\u001b[0m\u001b[0m\n\u001b[0m\u001b[1;32m      3\u001b[0m \u001b[0mtokenized_test_texts_val\u001b[0m \u001b[0;34m=\u001b[0m \u001b[0mtokenization\u001b[0m\u001b[0;34m(\u001b[0m\u001b[0mtest_data_val\u001b[0m\u001b[0;34m)\u001b[0m\u001b[0;34m\u001b[0m\u001b[0;34m\u001b[0m\u001b[0m\n\u001b[1;32m      4\u001b[0m \u001b[0mtokenized_test_texts_add_val\u001b[0m \u001b[0;34m=\u001b[0m \u001b[0mtokenization\u001b[0m\u001b[0;34m(\u001b[0m\u001b[0mtest_data_add_val\u001b[0m\u001b[0;34m)\u001b[0m\u001b[0;34m\u001b[0m\u001b[0;34m\u001b[0m\u001b[0m\n\u001b[1;32m      5\u001b[0m \u001b[0;34m\u001b[0m\u001b[0m\n",
      "\u001b[0;32m~/.local/lib/python3.9/site-packages/pandas/__init__.py\u001b[0m in \u001b[0;36m__getattr__\u001b[0;34m(name)\u001b[0m\n\u001b[1;32m    259\u001b[0m         \u001b[0;32mreturn\u001b[0m \u001b[0m_SparseArray\u001b[0m\u001b[0;34m\u001b[0m\u001b[0;34m\u001b[0m\u001b[0m\n\u001b[1;32m    260\u001b[0m \u001b[0;34m\u001b[0m\u001b[0m\n\u001b[0;32m--> 261\u001b[0;31m     \u001b[0;32mraise\u001b[0m \u001b[0mAttributeError\u001b[0m\u001b[0;34m(\u001b[0m\u001b[0;34mf\"module 'pandas' has no attribute '{name}'\"\u001b[0m\u001b[0;34m)\u001b[0m\u001b[0;34m\u001b[0m\u001b[0;34m\u001b[0m\u001b[0m\n\u001b[0m\u001b[1;32m    262\u001b[0m \u001b[0;34m\u001b[0m\u001b[0m\n\u001b[1;32m    263\u001b[0m \u001b[0;34m\u001b[0m\u001b[0m\n",
      "\u001b[0;31mAttributeError\u001b[0m: module 'pandas' has no attribute 'readc_csv'"
     ]
    }
   ],
   "source": [
    "test_data_val = pd.read_csv(path + \"Validation.tsv\", sep='\\t')\n",
    "test_data_add_val = pd.read_csv(path + \"AdditionalDILItest.csv\", sep='\\t')\n",
    "tokenized_test_texts_val = tokenization(test_data_val)\n",
    "tokenized_test_texts_add_val = tokenization(test_data_add_val)\n",
    "\n",
    "labels_model_val = pd.DataFrame( model.predict(tokenized_test_texts_val) )\n",
    "labels_model_add_val = pd.DataFrame( model.predic(tokenized_test_texts_add_val) )\n",
    "labels_model_val.to_csv('../submission/labels_val.csv', index=False)\n",
    "labels_model_add_val.to_csv('../submission/labels_add_val.csv', index=False)\n"
   ]
  }
 ],
 "metadata": {
  "interpreter": {
   "hash": "c87cabe562f5e807d26d1cd98e5393fbbae9a42e9f9c4a4ccda557b7b96e2ecb"
  },
  "kernelspec": {
   "display_name": "Python 3.9.7 64-bit ('base': conda)",
   "language": "python",
   "name": "python3"
  },
  "language_info": {
   "codemirror_mode": {
    "name": "ipython",
    "version": 3
   },
   "file_extension": ".py",
   "mimetype": "text/x-python",
   "name": "python",
   "nbconvert_exporter": "python",
   "pygments_lexer": "ipython3",
   "version": "3.9.7"
  },
  "orig_nbformat": 4
 },
 "nbformat": 4,
 "nbformat_minor": 2
}
