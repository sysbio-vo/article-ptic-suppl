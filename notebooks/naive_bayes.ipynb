{
 "cells": [
  {
   "cell_type": "code",
   "execution_count": 75,
   "metadata": {},
   "outputs": [
    {
     "name": "stderr",
     "output_type": "stream",
     "text": [
      "[nltk_data] Downloading package punkt to /home/aln/nltk_data...\n",
      "[nltk_data]   Package punkt is already up-to-date!\n",
      "[nltk_data] Downloading package stopwords to /home/aln/nltk_data...\n",
      "[nltk_data]   Package stopwords is already up-to-date!\n"
     ]
    }
   ],
   "source": [
    "from nltk.tokenize import word_tokenize\n",
    "import nltk\n",
    "import pandas as pd\n",
    "from nltk.corpus import stopwords\n",
    "import string\n",
    "import numpy as np\n",
    "from collections import defaultdict, Counter\n",
    "from sklearn.metrics import precision_score, recall_score, f1_score, accuracy_score, confusion_matrix\n",
    "\n",
    "nltk.download('punkt')\n",
    "nltk.download('stopwords')\n",
    "np.random.seed(42)"
   ]
  },
  {
   "cell_type": "markdown",
   "metadata": {
    "tags": []
   },
   "source": [
    "# IMDB dataset"
   ]
  },
  {
   "cell_type": "code",
   "execution_count": 39,
   "metadata": {},
   "outputs": [],
   "source": [
    "path = \"../datasets/\"\n",
    "\n",
    "# Data is taken from here\n",
    "# https://www.kaggle.com/lakshmi25npathi/imdb-dataset-of-50k-movie-reviews\n",
    "data_raw = pd.read_csv(path + 'IMDB_Dataset.csv')\n",
    "indices = np.random.permutation(data_raw.index)\n",
    "data = data_raw.loc[indices]\n",
    "data = data_raw.sample(frac=1)\n",
    "data = data.replace(to_replace=['negative', 'positive'], value=[0, 1])\n",
    "\n",
    "idx = int(data.shape[0] * 0.1)\n",
    "test_data = data.iloc[:idx]\n",
    "train_data = data.iloc[idx:]\n",
    "targets_train = train_data[\"sentiment\"].values\n",
    "targets_test = test_data[\"sentiment\"].values\n",
    "\n",
    "tokenized_texts = tokenization(train_data, 'review')\n",
    "tokenized_test_texts = tokenization(test_data, 'review')"
   ]
  },
  {
   "cell_type": "code",
   "execution_count": 40,
   "metadata": {},
   "outputs": [],
   "source": [
    "model = NaiveBayes()\n",
    "model.train(tokenized_texts, targets_train)\n",
    "labels_model = model.predict(tokenized_test_texts)"
   ]
  },
  {
   "cell_type": "code",
   "execution_count": 41,
   "metadata": {},
   "outputs": [
    {
     "name": "stdout",
     "output_type": "stream",
     "text": [
      "accuracy: 0.853\n",
      "precision: 0.8459081836327346\n",
      "recall: 0.8585899513776337\n",
      "f1_score: 0.8522018902071185\n"
     ]
    }
   ],
   "source": [
    "from sklearn.metrics import precision_score, recall_score, f1_score, accuracy_score\n",
    "print('accuracy:', accuracy_score(labels_model, targets_test))\n",
    "print('precision:', precision_score(labels_model, targets_test))\n",
    "print('recall:', recall_score(labels_model, targets_test))\n",
    "print('f1_score:', f1_score(labels_model, targets_test))"
   ]
  },
  {
   "cell_type": "markdown",
   "metadata": {
    "tags": []
   },
   "source": [
    "# DILI datasets"
   ]
  },
  {
   "cell_type": "code",
   "execution_count": 76,
   "metadata": {},
   "outputs": [],
   "source": [
    "path = '../datasets/DILI_CAMDA_challenge/'\n",
    "data_raw = pd.read_csv(path + \"DILI_initial_set.csv\")\n",
    "data_raw[\"abs_title\"] = data_raw[\"Abstract\"] + \" \" + data_raw[\"Title\"]\n",
    "indices = np.random.permutation(data_raw.index)\n",
    "data = data_raw.loc[indices]\n",
    "data = data_raw.sample(frac=1)\n",
    "idx = int(data.shape[0] * 0.1)\n",
    "test_data = data.iloc[:idx]\n",
    "train_data = data.iloc[idx:]\n",
    "targets_train = train_data['Label'].values\n",
    "targets_test = test_data['Label'].values"
   ]
  },
  {
   "cell_type": "code",
   "execution_count": 77,
   "metadata": {},
   "outputs": [],
   "source": [
    "stop_words = set(nltk.corpus.stopwords.words('english') + list(string.punctuation))\n",
    "\n",
    "def tokenize(s):\n",
    "    return [i for i in word_tokenize(s.lower()) if i not in stop_words]\n",
    "\n",
    "def tokenization(train_data, var_name='Abstract'):\n",
    "    tokenized_texts = []\n",
    "    #print(\"Tokenization....\")\n",
    "    for _, row in train_data.iterrows():\n",
    "        text = str(row[var_name])\n",
    "        words = tokenize(text)\n",
    "        tokenized_texts.append(words)\n",
    "    return tokenized_texts"
   ]
  },
  {
   "cell_type": "code",
   "execution_count": 78,
   "metadata": {},
   "outputs": [],
   "source": [
    "class NaiveBayes:\n",
    "\n",
    "    def __init__(self):\n",
    "        self.p_w_class = defaultdict(Counter)\n",
    "        self.total_words = defaultdict(int)\n",
    "        self.class_probs = defaultdict(int)\n",
    "\n",
    "    def prob_word_class(self, tokenized_texts, labels):\n",
    "        for text, label in zip(tokenized_texts, labels):\n",
    "            unique_words = np.unique(text)\n",
    "            for w in unique_words:\n",
    "                self.p_w_class[label][w] += 1\n",
    "        for l in labels:\n",
    "            self.total_words[l] += 1\n",
    "        for l in self.p_w_class:\n",
    "            doc_count = self.total_words[l]\n",
    "            for w in self.p_w_class[l]:\n",
    "                self.p_w_class[l][w] /= doc_count\n",
    "\n",
    "    def prob_class(self, labels):\n",
    "        for l in labels:\n",
    "            self.class_probs[l] += 1\n",
    "        tot = len(labels)\n",
    "        for c in self.class_probs:\n",
    "            self.class_probs[c] /= tot\n",
    "            self.class_probs[c] = np.log(self.class_probs[c])\n",
    "\n",
    "    def reset(self):\n",
    "        self.__init__()\n",
    "\n",
    "    def train(self, train_data, train_labels):\n",
    "        self.prob_word_class(train_data, train_labels)\n",
    "        self.prob_class(train_labels)\n",
    "\n",
    "    def predict(self, test_data):\n",
    "        labels_model = []\n",
    "        for text in test_data:\n",
    "            p_class_given_words = self.class_probs.copy()\n",
    "            for w in text:\n",
    "                for c in p_class_given_words:\n",
    "                    if w in self.p_w_class[0] and w in self.p_w_class[1]:\n",
    "                        p_class_given_words[c] += np.log(self.p_w_class[c][w])\n",
    "            max_c = max(p_class_given_words, key=p_class_given_words.get)\n",
    "            labels_model.append(max_c)\n",
    "        return labels_model\n",
    "\n"
   ]
  },
  {
   "cell_type": "code",
   "execution_count": 79,
   "metadata": {
    "tags": []
   },
   "outputs": [
    {
     "name": "stdout",
     "output_type": "stream",
     "text": [
      "-18.514108180999756\n"
     ]
    }
   ],
   "source": [
    "from time import time\n",
    "\n",
    "s = time()\n",
    "tokenized_train_texts = tokenization(train_data, var_name=\"abs_title\")\n",
    "model = NaiveBayes()\n",
    "model.train(tokenized_train_texts, targets_train)\n",
    "e = time()\n",
    "# labels_model = model.predict(tokenized_test_texts)\n",
    "print(s - e)"
   ]
  },
  {
   "cell_type": "code",
   "execution_count": 80,
   "metadata": {
    "jupyter": {
     "source_hidden": true
    },
    "tags": []
   },
   "outputs": [
    {
     "data": {
      "text/plain": [
       "0.30856846968332924"
      ]
     },
     "execution_count": 80,
     "metadata": {},
     "output_type": "execute_result"
    }
   ],
   "source": [
    "(e - s) / 60"
   ]
  },
  {
   "cell_type": "code",
   "execution_count": 81,
   "metadata": {},
   "outputs": [
    {
     "name": "stdout",
     "output_type": "stream",
     "text": [
      "0.04295214017232259\n"
     ]
    }
   ],
   "source": [
    "s = time()\n",
    "tokenized_test_texts = tokenization(test_data, var_name=\"abs_title\")\n",
    "labels_model = model.predict(tokenized_test_texts)\n",
    "e = time()\n",
    "print( (e - s) / 60)"
   ]
  },
  {
   "cell_type": "code",
   "execution_count": 82,
   "metadata": {},
   "outputs": [
    {
     "name": "stdout",
     "output_type": "stream",
     "text": [
      "accuracy: 0.9288732394366197\n",
      "precision: 0.9077540106951871\n",
      "recall: 0.9549929676511955\n",
      "f1_score: 0.9307745030843043\n",
      "fp_rate: 0.09732016925246827\n",
      "fn_rate: 0.0450070323488045\n"
     ]
    }
   ],
   "source": [
    "tn, fp, fn, tp = confusion_matrix(labels_model, targets_test).ravel()\n",
    "print('accuracy:', accuracy_score(labels_model, targets_test))\n",
    "print('precision:', precision_score(labels_model, targets_test))\n",
    "print('recall:', recall_score(labels_model, targets_test))\n",
    "print('f1_score:', f1_score(labels_model, targets_test))\n",
    "print('fp_rate:', fp / (fp + tn))\n",
    "print('fn_rate:', fn / (fn + tp))"
   ]
  },
  {
   "cell_type": "code",
   "execution_count": 83,
   "metadata": {},
   "outputs": [],
   "source": [
    "path = '../datasets/DILI_CAMDA_challenge/'\n",
    "test_data_val_1 = pd.read_csv(path + \"DILI_validation_set_1.tsv\", sep='\\t')\n",
    "test_data_val_2 = pd.read_csv(path + \"DILI_validation_set_2.tsv\", sep='\\t')\n",
    "test_data_val_1[\"abs_title\"] = test_data_val_1[\"Abstract\"] + \" \" + test_data_val_1[\"Title\"]\n",
    "\n",
    "tokenized_test_texts_val_1 = tokenization(test_data_val_1, var_name=\"abs_title\")\n",
    "tokenized_test_texts_val_2 = tokenization(test_data_val_2)\n",
    "\n",
    "labels_model_val_1 = pd.DataFrame( model.predict(tokenized_test_texts_val_1) )\n",
    "labels_model_val_2 = pd.DataFrame( model.predict(tokenized_test_texts_val_2) )\n",
    "labels_model_val_1.to_csv('../submissions/NB/labels_nb_val_1.csv', index=False, header=[\"Labels\"])\n",
    "labels_model_val_2.to_csv('../submissions/NB/labels_nb_val_2.csv', index=False, header=[\"Labels\"])"
   ]
  },
  {
   "cell_type": "markdown",
   "metadata": {},
   "source": [
    "# DILI extended dataset"
   ]
  },
  {
   "cell_type": "code",
   "execution_count": 84,
   "metadata": {},
   "outputs": [],
   "source": [
    "path = '../datasets/'\n",
    "data_raw = pd.read_csv(path + \"merged_additional_data_dili_cleaned.csv\")\n",
    "data_raw.fillna(\"\")\n",
    "data_raw[\"abs_title_anno\"] = data_raw[\"abstract\"].astype(str) + \" \" + data_raw[\"title\"].astype(str) + \" \" + data_raw[\"tox_annotation\"].astype(str)\n",
    "data_subset = data_raw.groupby(\"label\").sample(n=sum(data_raw[\"label\"]), random_state=1)\n",
    "\n",
    "indices = np.random.permutation(data_subset.index)\n",
    "data = data_raw.loc[indices]\n",
    "data = data_raw.sample(frac=1)\n",
    "idx = int(data.shape[0] * 0.1)\n",
    "test_data = data.iloc[:idx]\n",
    "train_data = data.iloc[idx:]\n",
    "targets_train = train_data['label'].values\n",
    "targets_test = test_data['label'].values"
   ]
  },
  {
   "cell_type": "code",
   "execution_count": 85,
   "metadata": {
    "tags": []
   },
   "outputs": [
    {
     "name": "stdout",
     "output_type": "stream",
     "text": [
      "-42.21417593955994\n"
     ]
    }
   ],
   "source": [
    "s = time()\n",
    "tokenized_train_texts = tokenization(train_data, var_name=\"abs_title_anno\")\n",
    "model = NaiveBayes()\n",
    "model.train(tokenized_train_texts, targets_train)\n",
    "e = time()\n",
    "# labels_model = model.predict(tokenized_test_texts)\n",
    "print(s - e)"
   ]
  },
  {
   "cell_type": "code",
   "execution_count": 86,
   "metadata": {
    "tags": []
   },
   "outputs": [
    {
     "data": {
      "text/plain": [
       "0.7035695989926656"
      ]
     },
     "execution_count": 86,
     "metadata": {},
     "output_type": "execute_result"
    }
   ],
   "source": [
    "(e - s) / 60"
   ]
  },
  {
   "cell_type": "code",
   "execution_count": 87,
   "metadata": {},
   "outputs": [
    {
     "name": "stdout",
     "output_type": "stream",
     "text": [
      "0.09738533099492391\n"
     ]
    }
   ],
   "source": [
    "s = time()\n",
    "tokenized_test_texts = tokenization(test_data, var_name=\"abs_title_anno\")\n",
    "labels_model = model.predict(tokenized_test_texts)\n",
    "e = time()\n",
    "print( (e - s) / 60)"
   ]
  },
  {
   "cell_type": "code",
   "execution_count": 88,
   "metadata": {},
   "outputs": [
    {
     "name": "stdout",
     "output_type": "stream",
     "text": [
      "accuracy: 0.9268645908761767\n",
      "precision: 0.9707792207792207\n",
      "recall: 0.8367537313432836\n",
      "f1_score: 0.8987975951903808\n",
      "fp_rate: 0.015976331360946745\n",
      "fn_rate: 0.16324626865671643\n"
     ]
    }
   ],
   "source": [
    "tn, fp, fn, tp = confusion_matrix(labels_model, targets_test).ravel()\n",
    "print('accuracy:', accuracy_score(labels_model, targets_test))\n",
    "print('precision:', precision_score(labels_model, targets_test))\n",
    "print('recall:', recall_score(labels_model, targets_test))\n",
    "print('f1_score:', f1_score(labels_model, targets_test))\n",
    "print('fp_rate:', fp / (fp + tn))\n",
    "print('fn_rate:', fn / (fn + tp))"
   ]
  },
  {
   "cell_type": "code",
   "execution_count": 89,
   "metadata": {},
   "outputs": [],
   "source": [
    "path = '../datasets/DILI_CAMDA_challenge/'\n",
    "test_data_val_1 = pd.read_csv(path + \"DILI_validation_set_1.tsv\", sep='\\t')\n",
    "test_data_val_2 = pd.read_csv(path + \"DILI_validation_set_2.tsv\", sep='\\t')\n",
    "test_data_val_1[\"abs_title\"] = test_data_val_1[\"Abstract\"] + \" \" + test_data_val_1[\"Title\"]\n",
    "\n",
    "tokenized_test_texts_val_1 = tokenization(test_data_val_1, var_name=\"abs_title\")\n",
    "tokenized_test_texts_val_2 = tokenization(test_data_val_2)\n",
    "\n",
    "labels_model_val_1 = pd.DataFrame( model.predict(tokenized_test_texts_val_1) )\n",
    "labels_model_val_2 = pd.DataFrame( model.predict(tokenized_test_texts_val_2) )\n",
    "labels_model_val_1.to_csv('../submissions/NB/labels_nb_extended_val_1.csv', index=False, header=[\"Labels\"])\n",
    "labels_model_val_2.to_csv('../submissions/NB/labels_nb_extended_val_2.csv', index=False, header=[\"Labels\"])"
   ]
  },
  {
   "cell_type": "code",
   "execution_count": null,
   "metadata": {},
   "outputs": [],
   "source": []
  }
 ],
 "metadata": {
  "interpreter": {
   "hash": "c87cabe562f5e807d26d1cd98e5393fbbae9a42e9f9c4a4ccda557b7b96e2ecb"
  },
  "kernelspec": {
   "display_name": "Python 3 (ipykernel)",
   "language": "python",
   "name": "python3"
  },
  "language_info": {
   "codemirror_mode": {
    "name": "ipython",
    "version": 3
   },
   "file_extension": ".py",
   "mimetype": "text/x-python",
   "name": "python",
   "nbconvert_exporter": "python",
   "pygments_lexer": "ipython3",
   "version": "3.10.0"
  }
 },
 "nbformat": 4,
 "nbformat_minor": 4
}
